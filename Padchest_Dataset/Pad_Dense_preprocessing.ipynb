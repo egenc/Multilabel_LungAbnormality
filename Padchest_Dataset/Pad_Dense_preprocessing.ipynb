{
 "cells": [
  {
   "cell_type": "code",
   "execution_count": 1,
   "metadata": {},
   "outputs": [
    {
     "name": "stdout",
     "output_type": "stream",
     "text": [
      "env: CUDA_DEVICE_ORDER=PCI_BUS_ID\n",
      "env: CUDA_VISIBLE_DEVICES=5\n"
     ]
    },
    {
     "name": "stderr",
     "output_type": "stream",
     "text": [
      "Using TensorFlow backend.\n"
     ]
    },
    {
     "name": "stdout",
     "output_type": "stream",
     "text": [
      "[name: \"/device:CPU:0\"\n",
      "device_type: \"CPU\"\n",
      "memory_limit: 268435456\n",
      "locality {\n",
      "}\n",
      "incarnation: 16288283281908442334\n",
      ", name: \"/device:XLA_CPU:0\"\n",
      "device_type: \"XLA_CPU\"\n",
      "memory_limit: 17179869184\n",
      "locality {\n",
      "}\n",
      "incarnation: 9602973470727666231\n",
      "physical_device_desc: \"device: XLA_CPU device\"\n",
      ", name: \"/device:GPU:0\"\n",
      "device_type: \"GPU\"\n",
      "memory_limit: 176422912\n",
      "locality {\n",
      "  bus_id: 1\n",
      "  links {\n",
      "  }\n",
      "}\n",
      "incarnation: 11397539387719647330\n",
      "physical_device_desc: \"device: 0, name: GeForce RTX 2080 Ti, pci bus id: 0000:14:00.0, compute capability: 7.5\"\n",
      ", name: \"/device:XLA_GPU:0\"\n",
      "device_type: \"XLA_GPU\"\n",
      "memory_limit: 17179869184\n",
      "locality {\n",
      "}\n",
      "incarnation: 11540801806662282487\n",
      "physical_device_desc: \"device: XLA_GPU device\"\n",
      "]\n"
     ]
    }
   ],
   "source": [
    "import pandas as pd\n",
    "import numpy as np\n",
    "import glob, time, os, cv2, csv\n",
    "\n",
    "try:\n",
    "    %env CUDA_DEVICE_ORDER=PCI_BUS_ID\n",
    "    %env CUDA_VISIBLE_DEVICES=5\n",
    "except NameError:\n",
    "    os.environ[\"CUDA_DEVICE_ORDER\"] = \"PCI_BUS_ID\"\n",
    "    os.environ[\"CUDA_VISIBLE_DEVICES\"] = \"5\"\n",
    "\n",
    "df_path = '/home/Erdal.Genc/covid_work/PadChest_csv/data_preprocessing_PadChest_PadChest_labels_ED_filtered.csv'\n",
    "img_path = '/mnt/dsets/ChestXrays/PadChest/image_zips'\n"
   ]
  },
  {
   "cell_type": "code",
   "execution_count": 2,
   "metadata": {},
   "outputs": [
    {
     "name": "stdout",
     "output_type": "stream",
     "text": [
      "102893\n"
     ]
    }
   ],
   "source": [
    "### Removing Some Chars in the Labels column\n",
    "data_new=pd.read_csv(df_path, low_memory=False)\n",
    "\n",
    "data_copy= data_new.copy()\n",
    "data_copy['new_labels']=data_copy['new_labels'].str.replace(\"[\",\"\")\n",
    "data_copy['new_labels']=data_copy['new_labels'].str.replace(\"]\",\"\")\n",
    "data_copy['new_labels']=data_copy['new_labels'].str.replace(\"'\",\"\")\n",
    "\n",
    "print(len(data_copy))\n"
   ]
  },
  {
   "cell_type": "code",
   "execution_count": 3,
   "metadata": {
    "scrolled": true
   },
   "outputs": [
    {
     "name": "stderr",
     "output_type": "stream",
     "text": [
      "/home/Erdal.Genc/anaconda3/envs/conda-env2/lib/python3.7/site-packages/ipykernel_launcher.py:17: SettingWithCopyWarning: \n",
      "A value is trying to be set on a copy of a slice from a DataFrame\n",
      "\n",
      "See the caveats in the documentation: https://pandas.pydata.org/pandas-docs/stable/user_guide/indexing.html#returning-a-view-versus-a-copy\n"
     ]
    },
    {
     "name": "stdout",
     "output_type": "stream",
     "text": [
      "Time Elapsed: 421.84553575515747\n"
     ]
    }
   ],
   "source": [
    "### loading each Image and arranging pixel intensity\n",
    "### Load this if img and corrupted files were not saved\n",
    "import time  ### this cells takes a lot of time to process\n",
    "start = time.time() \n",
    "##Creating new column for path of each image\n",
    "data_copy['Path'] =  'path'\n",
    "\n",
    "CorruptedFiles = []\n",
    "\n",
    "for root, dirnames, filename in os.walk(img_path):\n",
    "    for i in range(len(data_copy['ImageID'])):\n",
    "        if data_copy['ImageID'][i] in filename:\n",
    "            try:  ###to prevent FileNotFound Error\n",
    "                try: ###to prevent Broken PNG file Error\n",
    "                    ## We need to load each image to if there is a broken PNG or missing PNG\n",
    "                    #img = image.load_img(os.path.join(str(root),data_copy['ImageID'][i]), target_size=(224,224))\n",
    "                    data_copy['Path'][i] = os.path.join(str(root),data_copy['ImageID'][i])\n",
    "                    i+=1\n",
    "                except SyntaxError:\n",
    "                    print(\"Broken PNG: Deleting from CSV!!!\", data_copy['ImageID'][i])\n",
    "                    CorruptedFiles.append(data_copy['ImageID'][i])\n",
    "            except OSError:\n",
    "                print( \"FileNotFound: Deleting from CSV!!!\", data_copy['ImageID'][i])\n",
    "                CorruptedFiles.append(data_copy['ImageID'][i])\n",
    "        else:\n",
    "            continue\n",
    "\n",
    "end = time.time()\n",
    "print(\"Time Elapsed:\", end-start)"
   ]
  },
  {
   "cell_type": "code",
   "execution_count": 4,
   "metadata": {},
   "outputs": [
    {
     "name": "stdout",
     "output_type": "stream",
     "text": [
      "Missing Files Deleted. New Length:  102874\n"
     ]
    }
   ],
   "source": [
    "## Deleting corrupted files\n",
    "Corr_files = open('/mnt/home/Erdal.Genc/corrupted_images.txt' , 'r')\n",
    "for ele in Corr_files.readlines():\n",
    "    ele = ele.replace(\"\\n\", \"\")\n",
    "    data_copy = data_copy[data_copy['ImageID'] != ele]\n",
    "\n",
    "print('Missing Files Deleted. New Length: ', len(data_copy['ImageID']))"
   ]
  },
  {
   "cell_type": "code",
   "execution_count": 6,
   "metadata": {},
   "outputs": [],
   "source": [
    "##Saving df file\n",
    "data_copy.to_csv('/home/Erdal.Genc/covid_work/PadChest_csv/Padchest_filtered_withPath.csv', index =False)"
   ]
  },
  {
   "cell_type": "code",
   "execution_count": null,
   "metadata": {},
   "outputs": [],
   "source": []
  }
 ],
 "metadata": {
  "celltoolbar": "Raw Cell Format",
  "kernelspec": {
   "display_name": "Python [conda env:conda-env2] *",
   "language": "python",
   "name": "conda-env-conda-env2-py"
  },
  "language_info": {
   "codemirror_mode": {
    "name": "ipython",
    "version": 3
   },
   "file_extension": ".py",
   "mimetype": "text/x-python",
   "name": "python",
   "nbconvert_exporter": "python",
   "pygments_lexer": "ipython3",
   "version": "3.7.7"
  }
 },
 "nbformat": 4,
 "nbformat_minor": 4
}
